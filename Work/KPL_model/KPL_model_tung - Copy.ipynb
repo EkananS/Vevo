{
 "cells": [
  {
   "cell_type": "code",
   "execution_count": 69,
   "metadata": {
    "collapsed": true
   },
   "outputs": [],
   "source": [
    "import pandas as pd\n",
    "import numpy as np"
   ]
  },
  {
   "cell_type": "code",
   "execution_count": 70,
   "metadata": {
    "collapsed": true
   },
   "outputs": [],
   "source": [
    "df = pd.read_csv('sa_to_model_ib.csv')"
   ]
  },
  {
   "cell_type": "code",
   "execution_count": 71,
   "metadata": {
    "collapsed": true
   },
   "outputs": [],
   "source": [
    "model = pd.DataFrame(np.zeros([5750,40]))\n",
    "model.columns = list(range(0,400,10))\n",
    "\n",
    "for i in range(0,400,10):\n",
    "    for j in range(0,10):\n",
    "        model[i] =  model[i] + df[str(i+j)]\n",
    "model['label'] = df['label']\n",
    "model['ip'] = df['ip_id']\n",
    "model.insert(loc=0,column='ip_id',value=model.ip,allow_duplicates=True)\n",
    "model.drop('ip',axis=1,inplace=True)\n",
    "#model.drop(model[model[0] == model[0].max()].index,inplace=True)"
   ]
  },
  {
   "cell_type": "code",
   "execution_count": 72,
   "metadata": {
    "collapsed": true
   },
   "outputs": [],
   "source": [
    "X = model.iloc[:,1:-1]\n",
    "y = model.iloc[:,-1]"
   ]
  },
  {
   "cell_type": "code",
   "execution_count": 100,
   "metadata": {
    "scrolled": true
   },
   "outputs": [
    {
     "name": "stdout",
     "output_type": "stream",
     "text": [
      "XGB(train): 0.88347826087\n",
      "XGB(test): 0.846956521739\n",
      "             precision    recall  f1-score   support\n",
      "\n",
      "          0       0.87      0.85      0.86       944\n",
      "          1       0.83      0.84      0.83       781\n",
      "\n",
      "avg / total       0.85      0.85      0.85      1725\n",
      "\n"
     ]
    }
   ],
   "source": [
    "# tuning XGboost model\n",
    "from xgboost import XGBClassifier\n",
    "xgb = XGBClassifier()\n",
    "xgb.fit(X_train,y_train)\n",
    "y_pred_xgb_train = xgb.predict(X_train)\n",
    "y_pred_xgb_test = xgb.predict(X_test)\n",
    "print('XGB(train):' ,accuracy_score(y_train, y_pred_xgb_train))\n",
    "print('XGB(test):' ,accuracy_score(y_test, y_pred_xgb_test))\n",
    "print(classification_report(y_test, y_pred_xgb_test))"
   ]
  },
  {
   "cell_type": "code",
   "execution_count": 5,
   "metadata": {
    "collapsed": true
   },
   "outputs": [],
   "source": [
    "# tuning logistic regression and decision tree model\n",
    "from sklearn.preprocessing import StandardScaler, MaxAbsScaler\n",
    "from sklearn.decomposition import PCA\n",
    "from sklearn.model_selection import GridSearchCV\n",
    "from sklearn.linear_model import LogisticRegression\n",
    "from sklearn.tree import DecisionTreeClassifier\n",
    "from sklearn.ensemble import RandomForestClassifier\n",
    "from sklearn.pipeline import make_pipeline\n",
    "from sklearn.model_selection import train_test_split\n",
    "from sklearn.metrics import accuracy_score, confusion_matrix\n",
    "\n",
    "X_train, X_test, y_train, y_test = \\\n",
    "    train_test_split(X, y, \n",
    "                     test_size=0.30,\n",
    "                     stratify=y,\n",
    "                     random_state=1)\n",
    "\n",
    "pipe_lr = make_pipeline(StandardScaler(),\n",
    "                        LogisticRegression(random_state=1))\n",
    "\n",
    "param_grid_lr = [{'logisticregression__C': [0.0001, 0.001, 0.01, 0.1, 1.0, 10.0, 100.0, 1000.0]}]\n",
    "\n",
    "gs_lr = GridSearchCV(estimator=pipe_lr, \n",
    "                  param_grid=param_grid_lr, \n",
    "                  scoring='accuracy', \n",
    "                  cv=10,\n",
    "                  refit=True)\n",
    "\n",
    "gs_lr.fit(X_train, y_train)\n",
    "\n",
    "y_pred_lr_train = gs_lr.predict(X_train)\n",
    "y_pred_lr_test = gs_lr.predict(X_test)\n",
    "# ==========================================================================\n",
    "pipe_dt = make_pipeline(DecisionTreeClassifier(random_state=1))\n",
    "\n",
    "param_grid_dt = [{'decisiontreeclassifier__max_depth': [1, 2, 3, 4, 5, 6, 7, None], \n",
    "               'decisiontreeclassifier__min_samples_leaf': [1, 2, 3, 4, 5, 6, 7]}]\n",
    "\n",
    "gs_dt = GridSearchCV(estimator=pipe_dt,\n",
    "                  param_grid=param_grid_dt,\n",
    "                  scoring='accuracy',\n",
    "                  cv=10,\n",
    "                  refit=True)\n",
    "\n",
    "gs_dt = gs_dt.fit(X_train, y_train)\n",
    "\n",
    "y_pred_dt_train = gs_dt.predict(X_train)\n",
    "y_pred_dt_test = gs_dt.predict(X_test)"
   ]
  },
  {
   "cell_type": "code",
   "execution_count": 14,
   "metadata": {
    "scrolled": true
   },
   "outputs": [
    {
     "data": {
      "text/plain": [
       "array([[-0.04693163, -0.24641083,  0.35832458,  0.47681398,  0.42373008,\n",
       "        -0.05276948, -0.80975095, -0.75787479,  0.01652577, -0.05121102,\n",
       "        -0.08490939, -1.97480778, -0.84978966,  0.29547   ,  0.49625642,\n",
       "         0.7818643 , -0.01737768, -0.13293516, -0.17063149, -0.08278076,\n",
       "         0.50758553, -0.41726046, -0.27637697,  0.34625066, -0.06388113,\n",
       "         0.09097357,  0.08941821,  0.19619892,  0.43316871,  0.13188598,\n",
       "         0.05029044,  0.39613396, -0.69888927, -1.42127346,  1.81054759,\n",
       "         0.68297641, -4.45356885, -0.77993498,  0.85871501, -4.83122871]])"
      ]
     },
     "execution_count": 14,
     "metadata": {},
     "output_type": "execute_result"
    }
   ],
   "source": [
    "# finding logistic regression parameters\n",
    "lr = gs_lr.best_estimator_.named_steps['logisticregression']\n",
    "lr.coef_"
   ]
  },
  {
   "cell_type": "code",
   "execution_count": 15,
   "metadata": {},
   "outputs": [
    {
     "data": {
      "text/html": [
       "<div>\n",
       "<style>\n",
       "    .dataframe thead tr:only-child th {\n",
       "        text-align: right;\n",
       "    }\n",
       "\n",
       "    .dataframe thead th {\n",
       "        text-align: left;\n",
       "    }\n",
       "\n",
       "    .dataframe tbody tr th {\n",
       "        vertical-align: top;\n",
       "    }\n",
       "</style>\n",
       "<table border=\"1\" class=\"dataframe\">\n",
       "  <thead>\n",
       "    <tr style=\"text-align: right;\">\n",
       "      <th></th>\n",
       "      <th>feature</th>\n",
       "      <th>importance</th>\n",
       "    </tr>\n",
       "  </thead>\n",
       "  <tbody>\n",
       "    <tr>\n",
       "      <th>39</th>\n",
       "      <td>38</td>\n",
       "      <td>0.708588</td>\n",
       "    </tr>\n",
       "    <tr>\n",
       "      <th>36</th>\n",
       "      <td>35</td>\n",
       "      <td>0.150753</td>\n",
       "    </tr>\n",
       "    <tr>\n",
       "      <th>28</th>\n",
       "      <td>27</td>\n",
       "      <td>0.103772</td>\n",
       "    </tr>\n",
       "    <tr>\n",
       "      <th>20</th>\n",
       "      <td>19</td>\n",
       "      <td>0.036887</td>\n",
       "    </tr>\n",
       "    <tr>\n",
       "      <th>4</th>\n",
       "      <td>3</td>\n",
       "      <td>0.000000</td>\n",
       "    </tr>\n",
       "  </tbody>\n",
       "</table>\n",
       "</div>"
      ],
      "text/plain": [
       "   feature  importance\n",
       "39      38    0.708588\n",
       "36      35    0.150753\n",
       "28      27    0.103772\n",
       "20      19    0.036887\n",
       "4        3    0.000000"
      ]
     },
     "execution_count": 15,
     "metadata": {},
     "output_type": "execute_result"
    }
   ],
   "source": [
    "dt = gs_dt.best_estimator_.named_steps['decisiontreeclassifier']\n",
    "pd.DataFrame(list(zip(df.columns, np.transpose(dt.feature_importances_))),\n",
    "            columns=['feature','importance']).sort_values('importance',axis=0,ascending=False).head()"
   ]
  },
  {
   "cell_type": "code",
   "execution_count": 16,
   "metadata": {},
   "outputs": [
    {
     "name": "stdout",
     "output_type": "stream",
     "text": [
      "logistic regression(train): 0.802732919255\n",
      "logistic regression(test): 0.809275362319\n",
      "\n",
      "decision tree(train): 0.802732919255\n",
      "decision tree(test): 0.813333333333\n"
     ]
    }
   ],
   "source": [
    "print('logistic regression(train):' ,accuracy_score(y_train, y_pred_lr_train))\n",
    "print('logistic regression(test):' ,accuracy_score(y_test, y_pred_lr_test))\n",
    "\n",
    "print('\\ndecision tree(train):' ,accuracy_score(y_train, y_pred_dt_train))\n",
    "print('decision tree(test):' ,accuracy_score(y_test, y_pred_dt_test))"
   ]
  },
  {
   "cell_type": "code",
   "execution_count": 17,
   "metadata": {
    "scrolled": true
   },
   "outputs": [
    {
     "name": "stdout",
     "output_type": "stream",
     "text": [
      "logistic regression\n",
      "              precision    recall  f1-score   support\n",
      "\n",
      "          0       0.88      0.75      0.81       944\n",
      "          1       0.75      0.88      0.81       781\n",
      "\n",
      "avg / total       0.82      0.81      0.81      1725\n",
      "\n",
      "decision tree\n",
      "              precision    recall  f1-score   support\n",
      "\n",
      "          0       0.85      0.80      0.82       944\n",
      "          1       0.78      0.83      0.80       781\n",
      "\n",
      "avg / total       0.82      0.81      0.81      1725\n",
      "\n"
     ]
    }
   ],
   "source": [
    "from sklearn.metrics import confusion_matrix,classification_report\n",
    "#confusion_matrix(y_test, y_pred_rf_test)\n",
    "print('logistic regression\\n', classification_report(y_test, y_pred_lr_test))\n",
    "print('decision tree\\n', classification_report(y_test, y_pred_dt_test))"
   ]
  },
  {
   "cell_type": "code",
   "execution_count": 18,
   "metadata": {
    "collapsed": true
   },
   "outputs": [],
   "source": [
    "# # ==========================================================================\n",
    "# pipe_rf = make_pipeline(RandomForestClassifier(random_state=1))\n",
    "\n",
    "# param_grid_rf = [{'randomforestclassifier__n_estimators': [10, 20, 30, 40, 50, 60, 70, 80, 90, 100],\n",
    "#                'randomforestclassifier__max_depth': [1, 2, 3, 4, 5, 6, 7, None], \n",
    "#                'randomforestclassifier__min_samples_leaf': [1, 2, 3, 4, 5, 6, 7]}]\n",
    "\n",
    "# gs_rf = GridSearchCV(estimator=pipe_rf,\n",
    "#                   param_grid=param_grid_rf,\n",
    "#                   scoring='recall',\n",
    "#                   cv=10,\n",
    "#                   refit=True)\n",
    "\n",
    "# gs_rf = gs_rf.fit(X_train, y_train)\n",
    "\n",
    "# y_pred_rf_train = gs_rf.predict(X_train)\n",
    "# y_pred_rf_test = gs_rf.predict(X_test)\n",
    "\n",
    "# print('\\nrandom forest(train):' ,accuracy_score(y_train, y_pred_rf_train))\n",
    "# print('random forest(test):' ,accuracy_score(y_test, y_pred_rf_test))"
   ]
  },
  {
   "cell_type": "code",
   "execution_count": null,
   "metadata": {
    "collapsed": true
   },
   "outputs": [],
   "source": []
  }
 ],
 "metadata": {
  "kernelspec": {
   "display_name": "Python 3",
   "language": "python",
   "name": "python3"
  },
  "language_info": {
   "codemirror_mode": {
    "name": "ipython",
    "version": 3
   },
   "file_extension": ".py",
   "mimetype": "text/x-python",
   "name": "python",
   "nbconvert_exporter": "python",
   "pygments_lexer": "ipython3",
   "version": "3.5.2"
  }
 },
 "nbformat": 4,
 "nbformat_minor": 2
}
